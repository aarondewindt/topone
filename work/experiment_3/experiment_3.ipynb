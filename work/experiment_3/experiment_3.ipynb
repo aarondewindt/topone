{
 "cells": [
  {
   "cell_type": "code",
   "execution_count": 1,
   "metadata": {},
   "outputs": [],
   "source": [
    "%load_ext autoreload\n",
    "%autoreload 2\n",
    "%matplotlib widget"
   ]
  },
  {
   "cell_type": "code",
   "execution_count": 2,
   "metadata": {},
   "outputs": [],
   "source": [
    "from dataclasses import dataclass\n",
    "from math import radians\n",
    "import time\n",
    "\n",
    "import numpy as np\n",
    "import matplotlib.pyplot as plt\n",
    "from tqdm.auto import trange\n",
    "import ipywidgets as widgets\n",
    "\n",
    "from cw.context import time_it\n",
    "from cw.simulation import Simulation, StatesBase, AB3Integrator, BatchLogger, Logging\n",
    "from cw.filters import smooth_signal\n",
    "\n",
    "from topone.sim_post_processing import sim_post_processing\n",
    "from topone.dynamics_1 import Dynamics1, Stage\n",
    "\n",
    "from environment import Environment"
   ]
  },
  {
   "cell_type": "code",
   "execution_count": 3,
   "metadata": {},
   "outputs": [],
   "source": [
    "@dataclass\n",
    "class States(StatesBase):\n",
    "    t: float = 0\n",
    "    command_engine_on: bool = False\n",
    "    command_drop_stage: bool = False\n",
    "    gii: np.ndarray = np.zeros(2)\n",
    "    xii: np.ndarray = np.zeros(2)\n",
    "    vii: np.ndarray = np.zeros(2)\n",
    "    aii: np.ndarray = np.zeros(2)\n",
    "    tci: np.ndarray = np.eye(2)\n",
    "    vic: np.ndarray = np.zeros(2)\n",
    "    fii_thrust: np.ndarray = np.zeros(2)\n",
    "    theta: float = 0.\n",
    "    theta_dot: float = 0.\n",
    "    mass: float = 0.\n",
    "    mass_dot: float = 0.\n",
    "    h: float = 0.\n",
    "    engine_on: bool = False\n",
    "    stage_state: int = 0\n",
    "    stage_idx: int = 0\n",
    "    gamma_i: float = 0.\n",
    "    gamma_e: float = 0.\n",
    "    latitude: float = 0.\n",
    "        \n",
    "    reward: float = 0.\n",
    "    score: float = 0.\n",
    "    done: bool = False\n",
    "    \n",
    "    delta_v: float = 0.\n",
    "\n",
    "    def get_y_dot(self):\n",
    "        y = np.empty(7)\n",
    "        y[:2] = self.vii\n",
    "        y[2:4] = self.aii\n",
    "        y[4] = self.theta_dot\n",
    "        y[5] = self.mass_dot\n",
    "        y[6] = self.reward\n",
    "        return y\n",
    "\n",
    "    def get_y(self):\n",
    "        y = np.empty(7)\n",
    "        y[:2] = self.xii\n",
    "        y[2:4] = self.vii\n",
    "        y[4] = self.theta\n",
    "        y[5] = self.mass\n",
    "        y[6] = self.score\n",
    "        return y\n",
    "\n",
    "    def set_t_y(self, t, y):\n",
    "        self.t = t\n",
    "        self.xii = y[:2]\n",
    "        self.vii = y[2:4]\n",
    "        self.theta = y[4]\n",
    "        self.mass = y[5]\n",
    "        self.score = y[6]"
   ]
  },
  {
   "cell_type": "code",
   "execution_count": 4,
   "metadata": {},
   "outputs": [
    {
     "name": "stdout",
     "output_type": "stream",
     "text": [
      "initialize\n"
     ]
    }
   ],
   "source": [
    "environment = Environment(target_time_step=0.01)\n",
    "\n",
    "simulation = Simulation(\n",
    "    states_class=States,\n",
    "    integrator=AB3Integrator(\n",
    "        h=0.01,\n",
    "        rk4=False,\n",
    "        fd_max_order=1),\n",
    "    modules=[\n",
    "        Dynamics1(\n",
    "            surface_diameter=1737.4e3,\n",
    "            mu=4.9048695e12,\n",
    "            stages=(\n",
    "                Stage(\n",
    "                    dry_mass=1,\n",
    "                    propellant_mass=0.02,\n",
    "                    specific_impulse=100,\n",
    "                    thrust=2*1.7),\n",
    "            ),\n",
    "            initial_altitude=1000,\n",
    "            initial_theta_e=radians(90),\n",
    "            initial_latitude=radians(90),\n",
    "        ),\n",
    "        environment\n",
    "    ],\n",
    "    logging=Logging(),\n",
    "    initial_state_values=None,\n",
    ")"
   ]
  },
  {
   "cell_type": "code",
   "execution_count": 5,
   "metadata": {},
   "outputs": [
    {
     "data": {
      "application/vnd.jupyter.widget-view+json": {
       "model_id": "c6b1d3dfb0c54a27a533989dde4c4a43",
       "version_major": 2,
       "version_minor": 0
      },
      "text/plain": [
       "HBox(children=(HTML(value=''), FloatProgress(value=0.0, max=2.0), HTML(value='')))"
      ]
     },
     "metadata": {},
     "output_type": "display_data"
    },
    {
     "name": "stdout",
     "output_type": "stream",
     "text": [
      "Starting simulation\n",
      "simulation_thread_target: n_steps=3 n_episodes=2\n",
      "envir: episode_idx=0\n",
      "Batch started.\n",
      "initialize\n",
      "envir: step, releasing agent\n",
      "envir: step, waiting for agent\n"
     ]
    }
   ],
   "source": [
    "environment.run_batch(3, 2)"
   ]
  },
  {
   "cell_type": "code",
   "execution_count": 13,
   "metadata": {},
   "outputs": [
    {
     "name": "stdout",
     "output_type": "stream",
     "text": [
      "envir: received action '0' from agent.\n",
      "*envi: performing action '0'\n",
      "envir: releasing simulation\n",
      "envir: waiting for simulation\n",
      "envir: return observation to agent\n",
      "*envi: observing\n"
     ]
    },
    {
     "data": {
      "text/plain": [
       "(999.9996753928717, 999.9996753928717, True, {'time': 0.03})"
      ]
     },
     "execution_count": 13,
     "metadata": {},
     "output_type": "execute_result"
    },
    {
     "name": "stdout",
     "output_type": "stream",
     "text": [
      "\n"
     ]
    }
   ],
   "source": [
    "environment.step(0)"
   ]
  },
  {
   "cell_type": "code",
   "execution_count": 10,
   "metadata": {},
   "outputs": [],
   "source": [
    "environment.end_batch()"
   ]
  },
  {
   "cell_type": "code",
   "execution_count": 14,
   "metadata": {},
   "outputs": [
    {
     "data": {
      "text/plain": [
       "False"
      ]
     },
     "execution_count": 14,
     "metadata": {},
     "output_type": "execute_result"
    }
   ],
   "source": [
    "environment.batch_running"
   ]
  },
  {
   "cell_type": "code",
   "execution_count": 17,
   "metadata": {},
   "outputs": [
    {
     "ename": "Exception",
     "evalue": "Simulation batch not started.",
     "output_type": "error",
     "traceback": [
      "\u001b[0;31m---------------------------------------------------------------------------\u001b[0m",
      "\u001b[0;31mException\u001b[0m                                 Traceback (most recent call last)",
      "\u001b[0;32m<ipython-input-17-630a73717b9e>\u001b[0m in \u001b[0;36m<module>\u001b[0;34m\u001b[0m\n\u001b[0;32m----> 1\u001b[0;31m \u001b[0menvironment\u001b[0m\u001b[0;34m.\u001b[0m\u001b[0mstep\u001b[0m\u001b[0;34m(\u001b[0m\u001b[0;36m1\u001b[0m\u001b[0;34m)\u001b[0m\u001b[0;34m\u001b[0m\u001b[0;34m\u001b[0m\u001b[0m\n\u001b[0m",
      "\u001b[0;32m~/topone/external/cw/cw/simulation/gym_wrapper.py\u001b[0m in \u001b[0;36mstep\u001b[0;34m(self, action)\u001b[0m\n\u001b[1;32m     90\u001b[0m     \u001b[0;32mdef\u001b[0m \u001b[0mstep\u001b[0m\u001b[0;34m(\u001b[0m\u001b[0mself\u001b[0m\u001b[0;34m,\u001b[0m \u001b[0maction\u001b[0m\u001b[0;34m:\u001b[0m \u001b[0mAny\u001b[0m\u001b[0;34m)\u001b[0m \u001b[0;34m->\u001b[0m \u001b[0mTuple\u001b[0m\u001b[0;34m[\u001b[0m\u001b[0mAny\u001b[0m\u001b[0;34m,\u001b[0m \u001b[0mfloat\u001b[0m\u001b[0;34m,\u001b[0m \u001b[0mbool\u001b[0m\u001b[0;34m,\u001b[0m \u001b[0mdict\u001b[0m\u001b[0;34m]\u001b[0m\u001b[0;34m:\u001b[0m\u001b[0;34m\u001b[0m\u001b[0;34m\u001b[0m\u001b[0m\n\u001b[1;32m     91\u001b[0m         \u001b[0;32mif\u001b[0m \u001b[0mself\u001b[0m\u001b[0;34m.\u001b[0m\u001b[0msimulation_thread\u001b[0m \u001b[0;32mis\u001b[0m \u001b[0;32mNone\u001b[0m\u001b[0;34m:\u001b[0m\u001b[0;34m\u001b[0m\u001b[0;34m\u001b[0m\u001b[0m\n\u001b[0;32m---> 92\u001b[0;31m             \u001b[0;32mraise\u001b[0m \u001b[0mException\u001b[0m\u001b[0;34m(\u001b[0m\u001b[0;34m\"Simulation batch not started.\"\u001b[0m\u001b[0;34m)\u001b[0m\u001b[0;34m\u001b[0m\u001b[0;34m\u001b[0m\u001b[0m\n\u001b[0m\u001b[1;32m     93\u001b[0m \u001b[0;34m\u001b[0m\u001b[0m\n\u001b[1;32m     94\u001b[0m         \u001b[0mprint\u001b[0m\u001b[0;34m(\u001b[0m\u001b[0;34mf\"envir: received action '{action}' from agent.\"\u001b[0m\u001b[0;34m)\u001b[0m\u001b[0;34m\u001b[0m\u001b[0;34m\u001b[0m\u001b[0m\n",
      "\u001b[0;31mException\u001b[0m: Simulation batch not started."
     ]
    }
   ],
   "source": [
    "environment.step(1)"
   ]
  },
  {
   "cell_type": "code",
   "execution_count": 15,
   "metadata": {},
   "outputs": [
    {
     "data": {
      "text/plain": [
       "True"
      ]
     },
     "execution_count": 15,
     "metadata": {},
     "output_type": "execute_result"
    }
   ],
   "source": []
  },
  {
   "cell_type": "code",
   "execution_count": null,
   "metadata": {},
   "outputs": [],
   "source": []
  }
 ],
 "metadata": {
  "kernelspec": {
   "display_name": "Python 3",
   "language": "python",
   "name": "python3"
  },
  "language_info": {
   "codemirror_mode": {
    "name": "ipython",
    "version": 3
   },
   "file_extension": ".py",
   "mimetype": "text/x-python",
   "name": "python",
   "nbconvert_exporter": "python",
   "pygments_lexer": "ipython3",
   "version": "3.8.6"
  }
 },
 "nbformat": 4,
 "nbformat_minor": 4
}
