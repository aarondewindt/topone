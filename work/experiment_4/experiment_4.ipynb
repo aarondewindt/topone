{
 "cells": [
  {
   "cell_type": "code",
   "execution_count": 1,
   "metadata": {},
   "outputs": [],
   "source": [
    "%load_ext autoreload\n",
    "%autoreload 2\n",
    "%matplotlib widget"
   ]
  },
  {
   "cell_type": "code",
   "execution_count": 2,
   "metadata": {},
   "outputs": [],
   "source": [
    "from dataclasses import dataclass\n",
    "from math import radians\n",
    "import time\n",
    "\n",
    "import numpy as np\n",
    "import pandas as pd\n",
    "import matplotlib.pyplot as plt\n",
    "from tqdm.auto import trange\n",
    "import ipywidgets as widgets\n",
    "import xarray.ufuncs as xrf\n",
    "\n",
    "from cw.context import time_it\n",
    "from cw.simulation import Simulation, StatesBase, AB3Integrator, BatchLogger, Logging\n",
    "from cw.filters import smooth_signal\n",
    "\n",
    "from topone.sim_post_processing import sim_post_processing\n",
    "from topone.dynamics_1 import Dynamics1, Stage\n",
    "\n",
    "from environment import Environment\n",
    "from actor_critic_agent import ActorCriticAgent"
   ]
  },
  {
   "cell_type": "code",
   "execution_count": 3,
   "metadata": {},
   "outputs": [],
   "source": [
    "@dataclass\n",
    "class States(StatesBase):\n",
    "    t: float = 0\n",
    "    command_engine_on: bool = False\n",
    "    command_drop_stage: bool = False\n",
    "\n",
    "    command_theta_e: float = 0.0\n",
    "    command_gamma_e_dot: float = 0.0\n",
    "    command_gamma_e: float = 0.0\n",
    "\n",
    "    gii: np.ndarray = np.zeros(2)\n",
    "    xii: np.ndarray = np.zeros(2)\n",
    "    vii: np.ndarray = np.zeros(2)\n",
    "    aii: np.ndarray = np.zeros(2)\n",
    "    tci: np.ndarray = np.eye(2)\n",
    "    vic: np.ndarray = np.zeros(2)\n",
    "    fii_thrust: np.ndarray = np.zeros(2)\n",
    "    theta: float = 0.\n",
    "    theta_dot: float = 0.\n",
    "    theta_e: float = 0.\n",
    "    mass: float = 0.\n",
    "    mass_dot: float = 0.\n",
    "    h: float = 0.\n",
    "    engine_on: bool = False\n",
    "    stage_state: int = 0\n",
    "    stage_idx: int = 0\n",
    "    stage_ignitions_left: int = 0\n",
    "    gamma_i: float = 0.\n",
    "    gamma_e: float = 0.\n",
    "    latitude: float = 0.\n",
    "\n",
    "    reward: float = 0.\n",
    "    score: float = 0.\n",
    "    done: bool = False\n",
    "\n",
    "    delta_v: float = 0.\n",
    "\n",
    "    def get_y_dot(self):\n",
    "        y = np.empty(7)\n",
    "        y[:2] = self.vii\n",
    "        y[2:4] = self.aii\n",
    "        y[4] = self.theta_dot\n",
    "        y[5] = self.mass_dot\n",
    "        y[6] = self.reward\n",
    "        return y\n",
    "\n",
    "    def get_y(self):\n",
    "        y = np.empty(7)\n",
    "        y[:2] = self.xii\n",
    "        y[2:4] = self.vii\n",
    "        y[4] = self.theta\n",
    "        y[5] = self.mass\n",
    "        y[6] = self.score\n",
    "        return y\n",
    "\n",
    "    def set_t_y(self, t, y):\n",
    "        self.t = t\n",
    "        self.xii = y[:2]\n",
    "        self.vii = y[2:4]\n",
    "        self.theta = y[4]\n",
    "        self.mass = y[5]\n",
    "        self.score = y[6]\n",
    "        "
   ]
  },
  {
   "cell_type": "code",
   "execution_count": 4,
   "metadata": {},
   "outputs": [],
   "source": [
    "environment = Environment(target_time_step=0.01)\n",
    "agent = ActorCriticAgent(\n",
    "    path=\"./set_1\",\n",
    "    alpha=0.01,\n",
    "    gamma=0.99,\n",
    "    environment=environment,\n",
    ")\n",
    "\n",
    "simulation = Simulation(\n",
    "    states_class=States,\n",
    "    integrator=AB3Integrator(\n",
    "        h=0.01,\n",
    "        rk4=False,\n",
    "        fd_max_order=1),\n",
    "    modules=[\n",
    "        Dynamics1(\n",
    "            surface_diameter=1737.4e3,\n",
    "            mu=4.9048695e12,\n",
    "            stages=(\n",
    "                Stage(\n",
    "                    dry_mass=1,\n",
    "                    propellant_mass=0.02,\n",
    "                    specific_impulse=100,\n",
    "                    thrust=2*1.7,\n",
    "                    n_ignitions=None\n",
    "                ),\n",
    "            ),\n",
    "            initial_altitude=1.,\n",
    "            initial_theta_e=radians(90),\n",
    "            initial_latitude=radians(90),\n",
    "        ),\n",
    "        environment\n",
    "    ],\n",
    "    logging=Logging(),\n",
    "    initial_state_values=None,\n",
    ")"
   ]
  },
  {
   "cell_type": "code",
   "execution_count": 5,
   "metadata": {},
   "outputs": [],
   "source": [
    "environment.start_simulation_thread(1000)"
   ]
  },
  {
   "cell_type": "code",
   "execution_count": 6,
   "metadata": {},
   "outputs": [],
   "source": [
    "# agent.train(1000, 60000, 5)"
   ]
  },
  {
   "cell_type": "code",
   "execution_count": null,
   "metadata": {},
   "outputs": [],
   "source": [
    "training_history = pd.DataFrame.from_records(agent.training_history, columns=agent.training_history[0]._fields)"
   ]
  },
  {
   "cell_type": "code",
   "execution_count": null,
   "metadata": {},
   "outputs": [],
   "source": [
    "training_history"
   ]
  },
  {
   "cell_type": "code",
   "execution_count": 12,
   "metadata": {},
   "outputs": [
    {
     "data": {
      "application/vnd.jupyter.widget-view+json": {
       "model_id": "45423ce1ff1047be976573ab038e74e6",
       "version_major": 2,
       "version_minor": 0
      },
      "text/plain": [
       "Canvas(toolbar=Toolbar(toolitems=[('Home', 'Reset original view', 'home', 'home'), ('Back', 'Back to previous …"
      ]
     },
     "metadata": {},
     "output_type": "display_data"
    },
    {
     "data": {
      "text/plain": [
       "<AxesSubplot:label='bfa94151-befa-4a7d-ae36-935d3d1ae088'>"
      ]
     },
     "execution_count": 12,
     "metadata": {},
     "output_type": "execute_result"
    }
   ],
   "source": [
    "fig, ax1 = plt.subplots()\n",
    "training_history.reward_sum.plot()\n",
    "plt.plot(smooth_signal(training_history.reward_sum, wn=0.1))\n",
    "\n",
    "ax2 = ax1.twinx()\n",
    "training_history.save_idx.plot()"
   ]
  },
  {
   "cell_type": "code",
   "execution_count": 9,
   "metadata": {},
   "outputs": [],
   "source": [
    "agent.load(500)"
   ]
  },
  {
   "cell_type": "code",
   "execution_count": 12,
   "metadata": {},
   "outputs": [
    {
     "data": {
      "application/vnd.jupyter.widget-view+json": {
       "model_id": "84d2a0c940ed4b9b9248f1bad4f6aa25",
       "version_major": 2,
       "version_minor": 0
      },
      "text/plain": [
       "Canvas(toolbar=Toolbar(toolitems=[('Home', 'Reset original view', 'home', 'home'), ('Back', 'Back to previous …"
      ]
     },
     "metadata": {},
     "output_type": "display_data"
    },
    {
     "data": {
      "text/plain": [
       "<AxesSubplot:label='9ed63f12-c6f0-440f-acba-0dc5511630f4'>"
      ]
     },
     "execution_count": 12,
     "metadata": {},
     "output_type": "execute_result"
    }
   ],
   "source": [
    "fig, ax1 = plt.subplots()\n",
    "training_history.reward_sum.plot()\n",
    "plt.plot(smooth_signal(training_history.reward_sum, wn=0.005))\n",
    "\n",
    "ax2 = ax1.twinx()\n",
    "training_history.save_idx.plot()"
   ]
  },
  {
   "cell_type": "code",
   "execution_count": 9,
   "metadata": {},
   "outputs": [],
   "source": [
    "agent.save()"
   ]
  },
  {
   "cell_type": "code",
   "execution_count": 6,
   "metadata": {},
   "outputs": [],
   "source": [
    "# agent.display_greedy_policy()"
   ]
  },
  {
   "cell_type": "code",
   "execution_count": 10,
   "metadata": {},
   "outputs": [
    {
     "data": {
      "application/json": {
       "aii": "[-9.93915342e-17 -1.62318693e+00]",
       "command_drop_stage": "False",
       "command_engine_on": "False",
       "delta_v": "0.0",
       "done": "False",
       "engine_on": "False",
       "fii_thrust": "[0. 0.]",
       "gamma_e": "-1.5707963267948968",
       "gamma_i": "-1.5707963267948968",
       "gii": "[-9.93915342e-17 -1.62318693e+00]",
       "h": "918.9289117243607",
       "latitude": "1.5707963267948966",
       "mass": "1.02",
       "mass_dot": "0",
       "reward": "0.0",
       "score": "0.0",
       "stage_idx": "0",
       "stage_state": "0",
       "t": "10.0",
       "tci": "[[-1.000000e+00  6.123234e-17]\n [ 6.123234e-17  1.000000e+00]]",
       "theta": "1.5707963267948966",
       "theta_dot": "0",
       "vic": "[-1.57772181e-30 -1.62226635e+01]",
       "vii": "[-9.94345559e-16 -1.62388953e+01]",
       "xii": "[1.06441326e-10 1.73831877e+06]"
      },
      "text/plain": [
       "<IPython.core.display.JSON object>"
      ]
     },
     "metadata": {
      "application/json": {
       "expanded": false,
       "root": "root"
      }
     },
     "output_type": "display_data"
    }
   ],
   "source": [
    "environment.last_results"
   ]
  },
  {
   "cell_type": "code",
   "execution_count": 20,
   "metadata": {},
   "outputs": [
    {
     "data": {
      "text/plain": [
       "(array([ True, False, False]), 0, False, {'time': 0.02})"
      ]
     },
     "execution_count": 20,
     "metadata": {},
     "output_type": "execute_result"
    }
   ],
   "source": [
    "environment.step(0)"
   ]
  },
  {
   "cell_type": "code",
   "execution_count": 8,
   "metadata": {},
   "outputs": [],
   "source": [
    "r = agent.run_episode_greedy(1000)"
   ]
  },
  {
   "cell_type": "code",
   "execution_count": 9,
   "metadata": {},
   "outputs": [
    {
     "data": {
      "application/vnd.jupyter.widget-view+json": {
       "model_id": "250be23db63a42e68ee3a4c2704c15ae",
       "version_major": 2,
       "version_minor": 0
      },
      "text/plain": [
       "Canvas(toolbar=Toolbar(toolitems=[('Home', 'Reset original view', 'home', 'home'), ('Back', 'Back to previous …"
      ]
     },
     "metadata": {},
     "output_type": "display_data"
    },
    {
     "data": {
      "application/vnd.jupyter.widget-view+json": {
       "model_id": "9bbe68ebf2b24466bf29159c686bfc7b",
       "version_major": 2,
       "version_minor": 0
      },
      "text/plain": [
       "Canvas(toolbar=Toolbar(toolitems=[('Home', 'Reset original view', 'home', 'home'), ('Back', 'Back to previous …"
      ]
     },
     "metadata": {},
     "output_type": "display_data"
    },
    {
     "data": {
      "text/plain": [
       "<matplotlib.legend.Legend at 0x7fe9c0615ee0>"
      ]
     },
     "execution_count": 9,
     "metadata": {},
     "output_type": "execute_result"
    }
   ],
   "source": [
    "plt.figure()\n",
    "r.gamma_e.plot.line(label=\"gamma_e\")\n",
    "r.command_gamma_e.plot.line(label=\"command_gamma_e\")\n",
    "plt.legend()\n",
    "\n",
    "plt.figure()\n",
    "r.theta_e.plot.line(label=\"theta_e\")\n",
    "r.command_theta_e.plot.line(label=\"command_theta_e\")\n",
    "plt.legend()"
   ]
  },
  {
   "cell_type": "code",
   "execution_count": 8,
   "metadata": {},
   "outputs": [
    {
     "data": {
      "application/vnd.jupyter.widget-view+json": {
       "model_id": "a3f5a9267aa643b899529a3b6e4bca51",
       "version_major": 2,
       "version_minor": 0
      },
      "text/plain": [
       "Canvas(toolbar=Toolbar(toolitems=[('Home', 'Reset original view', 'home', 'home'), ('Back', 'Back to previous …"
      ]
     },
     "metadata": {},
     "output_type": "display_data"
    },
    {
     "data": {
      "text/plain": [
       "[<matplotlib.lines.Line2D at 0x7f6cc459f370>]"
      ]
     },
     "execution_count": 8,
     "metadata": {},
     "output_type": "execute_result"
    }
   ],
   "source": [
    "plt.figure()\n",
    "r.vic.isel(d_2_0=1).plot()"
   ]
  },
  {
   "cell_type": "code",
   "execution_count": 9,
   "metadata": {},
   "outputs": [
    {
     "data": {
      "application/vnd.jupyter.widget-view+json": {
       "model_id": "7636dc7d020548a1ba69eb0b0a1be083",
       "version_major": 2,
       "version_minor": 0
      },
      "text/plain": [
       "Canvas(toolbar=Toolbar(toolitems=[('Home', 'Reset original view', 'home', 'home'), ('Back', 'Back to previous …"
      ]
     },
     "metadata": {},
     "output_type": "display_data"
    },
    {
     "data": {
      "text/plain": [
       "[<matplotlib.lines.Line2D at 0x7f6cc44f8940>,\n",
       " <matplotlib.lines.Line2D at 0x7f6cc44f8ac0>]"
      ]
     },
     "execution_count": 9,
     "metadata": {},
     "output_type": "execute_result"
    }
   ],
   "source": [
    "plt.figure()\n",
    "r.vic.plot.line(x=\"t\")"
   ]
  },
  {
   "cell_type": "code",
   "execution_count": null,
   "metadata": {},
   "outputs": [],
   "source": []
  }
 ],
 "metadata": {
  "kernelspec": {
   "display_name": "Python 3",
   "language": "python",
   "name": "python3"
  },
  "language_info": {
   "codemirror_mode": {
    "name": "ipython",
    "version": 3
   },
   "file_extension": ".py",
   "mimetype": "text/x-python",
   "name": "python",
   "nbconvert_exporter": "python",
   "pygments_lexer": "ipython3",
   "version": "3.8.6"
  }
 },
 "nbformat": 4,
 "nbformat_minor": 4
}
