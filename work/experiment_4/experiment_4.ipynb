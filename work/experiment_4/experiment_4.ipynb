{
 "cells": [
  {
   "cell_type": "code",
   "execution_count": 2,
   "metadata": {},
   "outputs": [
    {
     "name": "stdout",
     "output_type": "stream",
     "text": [
      "The autoreload extension is already loaded. To reload it, use:\n",
      "  %reload_ext autoreload\n"
     ]
    }
   ],
   "source": [
    "%load_ext autoreload\n",
    "%autoreload 2\n",
    "%matplotlib widget"
   ]
  },
  {
   "cell_type": "code",
   "execution_count": 3,
   "metadata": {},
   "outputs": [],
   "source": [
    "from dataclasses import dataclass\n",
    "from math import radians\n",
    "import time\n",
    "\n",
    "import numpy as np\n",
    "import pandas as pd\n",
    "import numba as nb\n",
    "import matplotlib.pyplot as plt\n",
    "from tqdm.auto import trange\n",
    "import ipywidgets as widgets\n",
    "import xarray.ufuncs as xrf\n",
    "from IPython.display import display, JSON\n",
    "\n",
    "from cw.context import time_it\n",
    "from cw.filters import smooth_signal\n",
    "\n",
    "from topone.environments.launcher_v1 import LauncherV1, Stage, Simulation\n",
    "from topone.environments.integrators import AB3Integrator\n",
    "\n",
    "# from environment import Environment\n",
    "# from actor_critic_agent import ActorCriticAgent"
   ]
  },
  {
   "cell_type": "code",
   "execution_count": 4,
   "metadata": {},
   "outputs": [
    {
     "data": {
      "text/plain": [
       "3.4"
      ]
     },
     "execution_count": 4,
     "metadata": {},
     "output_type": "execute_result"
    }
   ],
   "source": [
    "2*1.7"
   ]
  },
  {
   "cell_type": "code",
   "execution_count": 5,
   "metadata": {},
   "outputs": [],
   "source": [
    "env = LauncherV1(\n",
    "    surface_diameter=1737.4e3,\n",
    "    mu=4.9048695e12,\n",
    "    stages=(\n",
    "        Stage(\n",
    "            dry_mass=1,\n",
    "            propellant_mass=0.02,\n",
    "            specific_impulse=100,\n",
    "            thrust=2*1.7),\n",
    "    ),\n",
    "    initial_altitude=1000,\n",
    "    initial_theta_e=radians(90),\n",
    "    initial_longitude=radians(90),\n",
    ")\n",
    "action = (True, False, 0.0)"
   ]
  },
  {
   "cell_type": "code",
   "execution_count": 7,
   "metadata": {},
   "outputs": [
    {
     "name": "stdout",
     "output_type": "stream",
     "text": [
      "sim: 0.09866416399745503 [s]\n"
     ]
    }
   ],
   "source": [
    "env.reset()\n",
    "\n",
    "t_log = [env.sim.t]\n",
    "h_log = [env.sim.h]\n",
    "engine_on_log = [env.sim.engine_on]\n",
    "aii_log = [env.sim.aii]\n",
    "vii_log = [env.sim.vii]\n",
    "fii_thrust_log = [env.sim.fii_thrust]\n",
    "gii_log = [env.sim.gii]\n",
    "xii_log = [env.sim.xii]\n",
    "\n",
    "with time_it(\"sim\"):\n",
    "    for i in range(10000):\n",
    "        env.step(action)\n",
    "        t_log.append(env.sim.t)\n",
    "        h_log.append(env.sim.h)\n",
    "        engine_on_log.append(env.sim.engine_on)\n",
    "        aii_log.append(env.sim.aii)\n",
    "        vii_log.append(env.sim.vii)\n",
    "        fii_thrust_log.append(env.sim.fii_thrust)\n",
    "        gii_log.append(env.sim.gii)\n",
    "        xii_log.append(env.sim.xii)\n",
    "    \n",
    "xii_log = np.array(xii_log)"
   ]
  },
  {
   "cell_type": "code",
   "execution_count": null,
   "metadata": {},
   "outputs": [],
   "source": []
  },
  {
   "cell_type": "code",
   "execution_count": 8,
   "metadata": {},
   "outputs": [
    {
     "data": {
      "application/vnd.jupyter.widget-view+json": {
       "model_id": "dc136db81f3341059a39e77eff4cdd31",
       "version_major": 2,
       "version_minor": 0
      },
      "text/plain": [
       "Canvas(toolbar=Toolbar(toolitems=[('Home', 'Reset original view', 'home', 'home'), ('Back', 'Back to previous …"
      ]
     },
     "metadata": {},
     "output_type": "display_data"
    },
    {
     "data": {
      "text/plain": [
       "[<matplotlib.lines.Line2D at 0x7f10cce3b460>]"
      ]
     },
     "execution_count": 8,
     "metadata": {},
     "output_type": "execute_result"
    }
   ],
   "source": [
    "plt.figure()\n",
    "plt.plot(t_log[::100], h_log[::100], \"-\")"
   ]
  },
  {
   "cell_type": "code",
   "execution_count": 6,
   "metadata": {},
   "outputs": [
    {
     "data": {
      "application/json": {
       "aii": "[-7.9886377e-08  1.8275939e+00]",
       "command_drop_stage": "False",
       "command_engine_on": "True",
       "command_gamma_e": "0.0",
       "done": "False",
       "engine_on": "True",
       "fii_thrust": "[-1.4861872e-07  3.4000001e+00]",
       "gamma_e": "1.5707963705062866",
       "gamma_i": "1.5707963705062866",
       "gii": "[ 7.0938924e-08 -1.6228868e+00]",
       "h": "1079.625",
       "longitude": "1.5707963705062866",
       "mass": "0.9853699803352356",
       "mass_dot": "-0.003465851303189993",
       "pid_command_gamma_e_dot": "nan",
       "pid_command_theta_e": "nan",
       "reward": "0.0",
       "score": "0.0",
       "stage_idx": "0",
       "stage_ignitions_left": "-1",
       "stage_state": "1",
       "t": "10.000133514404297",
       "tei": "[[-1.000000e+00 -4.371139e-08]\n [-4.371139e-08  1.000000e+00]]",
       "theta_e": "1.5707963705062866",
       "theta_i": "1.5707963705062866",
       "theta_i_dot": "0.0",
       "vie": "[1.1937118e-12 1.7648781e+01]",
       "vii": "[-7.714539e-07  1.764878e+01]",
       "xii": "[-7.5991660e-02  1.7384796e+06]"
      },
      "text/plain": [
       "<IPython.core.display.JSON object>"
      ]
     },
     "execution_count": 6,
     "metadata": {
      "application/json": {
       "expanded": false,
       "root": "root"
      }
     },
     "output_type": "execute_result"
    }
   ],
   "source": [
    "JSON(env.sim_states_dict())"
   ]
  },
  {
   "cell_type": "code",
   "execution_count": null,
   "metadata": {},
   "outputs": [],
   "source": []
  }
 ],
 "metadata": {
  "kernelspec": {
   "display_name": "Python 3",
   "language": "python",
   "name": "python3"
  },
  "language_info": {
   "codemirror_mode": {
    "name": "ipython",
    "version": 3
   },
   "file_extension": ".py",
   "mimetype": "text/x-python",
   "name": "python",
   "nbconvert_exporter": "python",
   "pygments_lexer": "ipython3",
   "version": "3.8.6"
  }
 },
 "nbformat": 4,
 "nbformat_minor": 4
}
