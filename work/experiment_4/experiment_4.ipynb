{
 "cells": [
  {
   "cell_type": "code",
   "execution_count": 1,
   "metadata": {},
   "outputs": [],
   "source": [
    "%load_ext autoreload\n",
    "%autoreload 2\n",
    "%matplotlib widget"
   ]
  },
  {
   "cell_type": "code",
   "execution_count": 2,
   "metadata": {},
   "outputs": [],
   "source": [
    "from dataclasses import dataclass\n",
    "from math import radians\n",
    "import time\n",
    "\n",
    "import numpy as np\n",
    "import pandas as pd\n",
    "import matplotlib.pyplot as plt\n",
    "from tqdm.auto import trange\n",
    "import ipywidgets as widgets\n",
    "\n",
    "from cw.context import time_it\n",
    "from cw.simulation import Simulation, StatesBase, AB3Integrator, BatchLogger, Logging\n",
    "from cw.filters import smooth_signal\n",
    "\n",
    "from topone.sim_post_processing import sim_post_processing\n",
    "from topone.dynamics_1 import Dynamics1, Stage\n",
    "\n",
    "from environment import Environment\n",
    "from actor_critic_agent import ActorCriticAgent"
   ]
  },
  {
   "cell_type": "code",
   "execution_count": 3,
   "metadata": {},
   "outputs": [],
   "source": [
    "@dataclass\n",
    "class States(StatesBase):\n",
    "    t: float = 0\n",
    "    command_engine_on: bool = False\n",
    "    command_drop_stage: bool = False\n",
    "\n",
    "    command_theta_e: float = 0.0\n",
    "    command_gamma_e_dot: float = 0.0\n",
    "    command_gamma_e: float = 0.0\n",
    "\n",
    "    gii: np.ndarray = np.zeros(2)\n",
    "    xii: np.ndarray = np.zeros(2)\n",
    "    vii: np.ndarray = np.zeros(2)\n",
    "    aii: np.ndarray = np.zeros(2)\n",
    "    tci: np.ndarray = np.eye(2)\n",
    "    vic: np.ndarray = np.zeros(2)\n",
    "    fii_thrust: np.ndarray = np.zeros(2)\n",
    "    theta: float = 0.\n",
    "    theta_dot: float = 0.\n",
    "    theta_e: float = 0.\n",
    "    mass: float = 0.\n",
    "    mass_dot: float = 0.\n",
    "    h: float = 0.\n",
    "    engine_on: bool = False\n",
    "    stage_state: int = 0\n",
    "    stage_idx: int = 0\n",
    "    stage_ignitions_left: int = 0\n",
    "    gamma_i: float = 0.\n",
    "    gamma_e: float = 0.\n",
    "    latitude: float = 0.\n",
    "\n",
    "    reward: float = 0.\n",
    "    score: float = 0.\n",
    "    done: bool = False\n",
    "\n",
    "    delta_v: float = 0.\n",
    "\n",
    "    def get_y_dot(self):\n",
    "        y = np.empty(7)\n",
    "        y[:2] = self.vii\n",
    "        y[2:4] = self.aii\n",
    "        y[4] = self.theta_dot\n",
    "        y[5] = self.mass_dot\n",
    "        y[6] = self.reward\n",
    "        return y\n",
    "\n",
    "    def get_y(self):\n",
    "        y = np.empty(7)\n",
    "        y[:2] = self.xii\n",
    "        y[2:4] = self.vii\n",
    "        y[4] = self.theta\n",
    "        y[5] = self.mass\n",
    "        y[6] = self.score\n",
    "        return y\n",
    "\n",
    "    def set_t_y(self, t, y):\n",
    "        self.t = t\n",
    "        self.xii = y[:2]\n",
    "        self.vii = y[2:4]\n",
    "        self.theta = y[4]\n",
    "        self.mass = y[5]\n",
    "        self.score = y[6]\n",
    "        "
   ]
  },
  {
   "cell_type": "code",
   "execution_count": 4,
   "metadata": {},
   "outputs": [],
   "source": [
    "environment = Environment(target_time_step=0.01)\n",
    "agent = ActorCriticAgent(\n",
    "    path=\"./set_1\",\n",
    "    alpha=0.01,\n",
    "    gamma=0.99,\n",
    "    environment=environment,\n",
    ")\n",
    "\n",
    "simulation = Simulation(\n",
    "    states_class=States,\n",
    "    integrator=AB3Integrator(\n",
    "        h=0.01,\n",
    "        rk4=False,\n",
    "        fd_max_order=1),\n",
    "    modules=[\n",
    "        Dynamics1(\n",
    "            surface_diameter=1737.4e3,\n",
    "            mu=4.9048695e12,\n",
    "            stages=(\n",
    "                Stage(\n",
    "                    dry_mass=1,\n",
    "                    propellant_mass=0.02,\n",
    "                    specific_impulse=100,\n",
    "                    thrust=2*1.7,\n",
    "                    n_ignitions=None\n",
    "                ),\n",
    "            ),\n",
    "            initial_altitude=1.,\n",
    "            initial_theta_e=radians(90),\n",
    "            initial_latitude=radians(0),\n",
    "        ),\n",
    "        environment\n",
    "    ],\n",
    "    logging=Logging(),\n",
    "    initial_state_values=None,\n",
    ")"
   ]
  },
  {
   "cell_type": "code",
   "execution_count": 5,
   "metadata": {},
   "outputs": [],
   "source": [
    "environment.start_simulation_thread(1000)"
   ]
  },
  {
   "cell_type": "code",
   "execution_count": 6,
   "metadata": {},
   "outputs": [
    {
     "data": {
      "application/vnd.jupyter.widget-view+json": {
       "model_id": "8c12ce6b05034def9f804e651d8e7173",
       "version_major": 2,
       "version_minor": 0
      },
      "text/plain": [
       "HBox(children=(HTML(value=''), FloatProgress(value=0.0, max=60000.0), HTML(value='')))"
      ]
     },
     "metadata": {},
     "output_type": "display_data"
    },
    {
     "name": "stdout",
     "output_type": "stream",
     "text": [
      "\n"
     ]
    }
   ],
   "source": [
    "agent.train(1000, 60000, 5)"
   ]
  },
  {
   "cell_type": "code",
   "execution_count": 10,
   "metadata": {},
   "outputs": [],
   "source": [
    "training_history = pd.DataFrame.from_records(agent.training_history, columns=agent.training_history[0]._fields)"
   ]
  },
  {
   "cell_type": "code",
   "execution_count": 11,
   "metadata": {},
   "outputs": [
    {
     "data": {
      "text/html": [
       "<div>\n",
       "<style scoped>\n",
       "    .dataframe tbody tr th:only-of-type {\n",
       "        vertical-align: middle;\n",
       "    }\n",
       "\n",
       "    .dataframe tbody tr th {\n",
       "        vertical-align: top;\n",
       "    }\n",
       "\n",
       "    .dataframe thead th {\n",
       "        text-align: right;\n",
       "    }\n",
       "</style>\n",
       "<table border=\"1\" class=\"dataframe\">\n",
       "  <thead>\n",
       "    <tr style=\"text-align: right;\">\n",
       "      <th></th>\n",
       "      <th>reward_sum</th>\n",
       "      <th>save_idx</th>\n",
       "      <th>process_time</th>\n",
       "    </tr>\n",
       "  </thead>\n",
       "  <tbody>\n",
       "    <tr>\n",
       "      <th>0</th>\n",
       "      <td>103.300659</td>\n",
       "      <td>0</td>\n",
       "      <td>2.347480</td>\n",
       "    </tr>\n",
       "    <tr>\n",
       "      <th>1</th>\n",
       "      <td>4604.539062</td>\n",
       "      <td>1</td>\n",
       "      <td>1.224804</td>\n",
       "    </tr>\n",
       "    <tr>\n",
       "      <th>2</th>\n",
       "      <td>106.152466</td>\n",
       "      <td>1</td>\n",
       "      <td>0.125889</td>\n",
       "    </tr>\n",
       "    <tr>\n",
       "      <th>3</th>\n",
       "      <td>96.952240</td>\n",
       "      <td>1</td>\n",
       "      <td>0.124668</td>\n",
       "    </tr>\n",
       "    <tr>\n",
       "      <th>4</th>\n",
       "      <td>97.194588</td>\n",
       "      <td>1</td>\n",
       "      <td>0.105119</td>\n",
       "    </tr>\n",
       "    <tr>\n",
       "      <th>...</th>\n",
       "      <td>...</td>\n",
       "      <td>...</td>\n",
       "      <td>...</td>\n",
       "    </tr>\n",
       "    <tr>\n",
       "      <th>4270</th>\n",
       "      <td>30011.396484</td>\n",
       "      <td>500</td>\n",
       "      <td>1.431007</td>\n",
       "    </tr>\n",
       "    <tr>\n",
       "      <th>4271</th>\n",
       "      <td>30011.396484</td>\n",
       "      <td>500</td>\n",
       "      <td>1.261516</td>\n",
       "    </tr>\n",
       "    <tr>\n",
       "      <th>4272</th>\n",
       "      <td>29895.496094</td>\n",
       "      <td>500</td>\n",
       "      <td>1.371902</td>\n",
       "    </tr>\n",
       "    <tr>\n",
       "      <th>4273</th>\n",
       "      <td>30011.396484</td>\n",
       "      <td>500</td>\n",
       "      <td>1.443712</td>\n",
       "    </tr>\n",
       "    <tr>\n",
       "      <th>4274</th>\n",
       "      <td>30011.396484</td>\n",
       "      <td>500</td>\n",
       "      <td>1.378196</td>\n",
       "    </tr>\n",
       "  </tbody>\n",
       "</table>\n",
       "<p>4275 rows × 3 columns</p>\n",
       "</div>"
      ],
      "text/plain": [
       "        reward_sum  save_idx  process_time\n",
       "0       103.300659         0      2.347480\n",
       "1      4604.539062         1      1.224804\n",
       "2       106.152466         1      0.125889\n",
       "3        96.952240         1      0.124668\n",
       "4        97.194588         1      0.105119\n",
       "...            ...       ...           ...\n",
       "4270  30011.396484       500      1.431007\n",
       "4271  30011.396484       500      1.261516\n",
       "4272  29895.496094       500      1.371902\n",
       "4273  30011.396484       500      1.443712\n",
       "4274  30011.396484       500      1.378196\n",
       "\n",
       "[4275 rows x 3 columns]"
      ]
     },
     "execution_count": 11,
     "metadata": {},
     "output_type": "execute_result"
    }
   ],
   "source": [
    "training_history"
   ]
  },
  {
   "cell_type": "code",
   "execution_count": 12,
   "metadata": {},
   "outputs": [
    {
     "data": {
      "application/vnd.jupyter.widget-view+json": {
       "model_id": "45423ce1ff1047be976573ab038e74e6",
       "version_major": 2,
       "version_minor": 0
      },
      "text/plain": [
       "Canvas(toolbar=Toolbar(toolitems=[('Home', 'Reset original view', 'home', 'home'), ('Back', 'Back to previous …"
      ]
     },
     "metadata": {},
     "output_type": "display_data"
    },
    {
     "data": {
      "text/plain": [
       "<AxesSubplot:label='bfa94151-befa-4a7d-ae36-935d3d1ae088'>"
      ]
     },
     "execution_count": 12,
     "metadata": {},
     "output_type": "execute_result"
    }
   ],
   "source": [
    "fig, ax1 = plt.subplots()\n",
    "training_history.reward_sum.plot()\n",
    "plt.plot(smooth_signal(training_history.reward_sum, wn=0.1))\n",
    "\n",
    "ax2 = ax1.twinx()\n",
    "training_history.save_idx.plot()"
   ]
  },
  {
   "cell_type": "code",
   "execution_count": 9,
   "metadata": {},
   "outputs": [],
   "source": [
    "agent.load(500)"
   ]
  },
  {
   "cell_type": "code",
   "execution_count": 12,
   "metadata": {},
   "outputs": [
    {
     "data": {
      "application/vnd.jupyter.widget-view+json": {
       "model_id": "84d2a0c940ed4b9b9248f1bad4f6aa25",
       "version_major": 2,
       "version_minor": 0
      },
      "text/plain": [
       "Canvas(toolbar=Toolbar(toolitems=[('Home', 'Reset original view', 'home', 'home'), ('Back', 'Back to previous …"
      ]
     },
     "metadata": {},
     "output_type": "display_data"
    },
    {
     "data": {
      "text/plain": [
       "<AxesSubplot:label='9ed63f12-c6f0-440f-acba-0dc5511630f4'>"
      ]
     },
     "execution_count": 12,
     "metadata": {},
     "output_type": "execute_result"
    }
   ],
   "source": [
    "fig, ax1 = plt.subplots()\n",
    "training_history.reward_sum.plot()\n",
    "plt.plot(smooth_signal(training_history.reward_sum, wn=0.005))\n",
    "\n",
    "ax2 = ax1.twinx()\n",
    "training_history.save_idx.plot()"
   ]
  },
  {
   "cell_type": "code",
   "execution_count": 9,
   "metadata": {},
   "outputs": [],
   "source": [
    "agent.save()"
   ]
  },
  {
   "cell_type": "code",
   "execution_count": 6,
   "metadata": {},
   "outputs": [],
   "source": [
    "# agent.display_greedy_policy()"
   ]
  },
  {
   "cell_type": "code",
   "execution_count": 10,
   "metadata": {},
   "outputs": [
    {
     "data": {
      "application/json": {
       "aii": "[-9.93915342e-17 -1.62318693e+00]",
       "command_drop_stage": "False",
       "command_engine_on": "False",
       "delta_v": "0.0",
       "done": "False",
       "engine_on": "False",
       "fii_thrust": "[0. 0.]",
       "gamma_e": "-1.5707963267948968",
       "gamma_i": "-1.5707963267948968",
       "gii": "[-9.93915342e-17 -1.62318693e+00]",
       "h": "918.9289117243607",
       "latitude": "1.5707963267948966",
       "mass": "1.02",
       "mass_dot": "0",
       "reward": "0.0",
       "score": "0.0",
       "stage_idx": "0",
       "stage_state": "0",
       "t": "10.0",
       "tci": "[[-1.000000e+00  6.123234e-17]\n [ 6.123234e-17  1.000000e+00]]",
       "theta": "1.5707963267948966",
       "theta_dot": "0",
       "vic": "[-1.57772181e-30 -1.62226635e+01]",
       "vii": "[-9.94345559e-16 -1.62388953e+01]",
       "xii": "[1.06441326e-10 1.73831877e+06]"
      },
      "text/plain": [
       "<IPython.core.display.JSON object>"
      ]
     },
     "metadata": {
      "application/json": {
       "expanded": false,
       "root": "root"
      }
     },
     "output_type": "display_data"
    }
   ],
   "source": [
    "environment.last_results"
   ]
  },
  {
   "cell_type": "code",
   "execution_count": 20,
   "metadata": {},
   "outputs": [
    {
     "data": {
      "text/plain": [
       "(array([ True, False, False]), 0, False, {'time': 0.02})"
      ]
     },
     "execution_count": 20,
     "metadata": {},
     "output_type": "execute_result"
    }
   ],
   "source": [
    "environment.step(0)"
   ]
  },
  {
   "cell_type": "code",
   "execution_count": 6,
   "metadata": {},
   "outputs": [],
   "source": [
    "# environment.gamma_controller.k_p = 4.\n",
    "# environment.gamma_controller.k_i = .1\n",
    "# environment.gamma_controller.k_d = 0.1\n",
    "# environment.theta_controller.k_p = 10.\n",
    "# environment.theta_controller.k_i = 0.\n",
    "# environment.theta_controller.k_d = 0.\n",
    "r = agent.run_episode_greedy(1000)\n",
    "# r"
   ]
  },
  {
   "cell_type": "code",
   "execution_count": 7,
   "metadata": {},
   "outputs": [
    {
     "data": {
      "application/vnd.jupyter.widget-view+json": {
       "model_id": "483fed83fcf1419f998f86dbb4dcf662",
       "version_major": 2,
       "version_minor": 0
      },
      "text/plain": [
       "Canvas(toolbar=Toolbar(toolitems=[('Home', 'Reset original view', 'home', 'home'), ('Back', 'Back to previous …"
      ]
     },
     "metadata": {},
     "output_type": "display_data"
    },
    {
     "data": {
      "application/vnd.jupyter.widget-view+json": {
       "model_id": "37100f95e5c14a86a5c86c71f19bc53a",
       "version_major": 2,
       "version_minor": 0
      },
      "text/plain": [
       "Canvas(toolbar=Toolbar(toolitems=[('Home', 'Reset original view', 'home', 'home'), ('Back', 'Back to previous …"
      ]
     },
     "metadata": {},
     "output_type": "display_data"
    },
    {
     "data": {
      "text/plain": [
       "<matplotlib.legend.Legend at 0x7f4e18527610>"
      ]
     },
     "execution_count": 7,
     "metadata": {},
     "output_type": "execute_result"
    }
   ],
   "source": [
    "plt.figure()\n",
    "r.gamma_e.plot.line(label=\"gamma_i\")\n",
    "r.command_gamma_e.plot.line(label=\"command_gamma_e\")\n",
    "plt.legend()\n",
    "\n",
    "plt.figure()\n",
    "r.theta_e.plot.line(label=\"theta_e\")\n",
    "r.command_theta_e.plot.line(label=\"command_theta_e\")\n",
    "plt.legend()"
   ]
  },
  {
   "cell_type": "code",
   "execution_count": 12,
   "metadata": {},
   "outputs": [
    {
     "data": {
      "application/vnd.jupyter.widget-view+json": {
       "model_id": "e00e9b5059ec43209e951f0e1d4e12e1",
       "version_major": 2,
       "version_minor": 0
      },
      "text/plain": [
       "Canvas(toolbar=Toolbar(toolitems=[('Home', 'Reset original view', 'home', 'home'), ('Back', 'Back to previous …"
      ]
     },
     "metadata": {},
     "output_type": "display_data"
    },
    {
     "data": {
      "text/plain": [
       "[<matplotlib.lines.Line2D at 0x7f3a5030df10>]"
      ]
     },
     "execution_count": 12,
     "metadata": {},
     "output_type": "execute_result"
    }
   ],
   "source": [
    "plt.figure()\n",
    "r.theta_dot.plot()"
   ]
  },
  {
   "cell_type": "code",
   "execution_count": null,
   "metadata": {},
   "outputs": [],
   "source": []
  }
 ],
 "metadata": {
  "kernelspec": {
   "display_name": "Python 3",
   "language": "python",
   "name": "python3"
  },
  "language_info": {
   "codemirror_mode": {
    "name": "ipython",
    "version": 3
   },
   "file_extension": ".py",
   "mimetype": "text/x-python",
   "name": "python",
   "nbconvert_exporter": "python",
   "pygments_lexer": "ipython3",
   "version": "3.8.6"
  }
 },
 "nbformat": 4,
 "nbformat_minor": 4
}
