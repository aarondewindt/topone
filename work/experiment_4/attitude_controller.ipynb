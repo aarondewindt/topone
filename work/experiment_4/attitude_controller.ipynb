{
 "cells": [
  {
   "cell_type": "code",
   "execution_count": 139,
   "metadata": {},
   "outputs": [],
   "source": [
    "import sympy as sp\n",
    "import numpy as np\n",
    "import control as ct"
   ]
  },
  {
   "cell_type": "code",
   "execution_count": 127,
   "metadata": {},
   "outputs": [],
   "source": [
    "# xii = sp.symbols(\"xii_{x:z}\")\n",
    "# vii = sp.symbols(\"vii_{x:z}\")\n",
    "# aii = sp.symbols(\"aii_{x:z}\")\n",
    "thrust, velocity = sp.symbols(\"T V\")\n",
    "g = sp.symbols(\"g\")\n",
    "mass = sp.symbols(\"m\")\n",
    "gamma = sp.Symbol(\"gamma\")\n",
    "gamma_dot = sp.Symbol(r\"\\dot{\\gamma}\")\n",
    "theta = sp.Symbol(\"theta\")\n",
    "theta_dot = sp.Symbol(r\"\\dot{\\theta}\")"
   ]
  },
  {
   "cell_type": "code",
   "execution_count": 128,
   "metadata": {},
   "outputs": [],
   "source": [
    "def t(angle):\n",
    "    return sp.Matrix([[sp.cos(angle), -sp.sin(angle)],\n",
    "                      [sp.sin(angle), sp.cos(angle)]])"
   ]
  },
  {
   "cell_type": "markdown",
   "metadata": {},
   "source": [
    "## State space function"
   ]
  },
  {
   "cell_type": "code",
   "execution_count": 129,
   "metadata": {},
   "outputs": [
    {
     "data": {
      "text/latex": [
       "$\\displaystyle \\left[\\begin{matrix}0 & 1 & 0 & 0\\\\\\frac{T}{V m} & 0 & \\frac{T}{V m} & 0\\\\0 & 0 & 0 & 1\\\\0 & 0 & 0 & 0\\end{matrix}\\right]$"
      ],
      "text/plain": [
       "Matrix([\n",
       "[      0, 1,       0, 0],\n",
       "[T/(V*m), 0, T/(V*m), 0],\n",
       "[      0, 0,       0, 1],\n",
       "[      0, 0,       0, 0]])"
      ]
     },
     "metadata": {},
     "output_type": "display_data"
    },
    {
     "data": {
      "text/latex": [
       "$\\displaystyle \\left[\\begin{matrix}0\\\\0\\\\0\\\\1\\end{matrix}\\right]$"
      ],
      "text/plain": [
       "Matrix([\n",
       "[0],\n",
       "[0],\n",
       "[0],\n",
       "[1]])"
      ]
     },
     "metadata": {},
     "output_type": "display_data"
    }
   ],
   "source": [
    "a_matrix = sp.Matrix([\n",
    "    [0, 1, 0, 0],\n",
    "    [thrust/velocity/mass, 0, thrust/velocity/mass, 0],\n",
    "    [0, 0, 0, 1],\n",
    "    [0, 0, 0, 0]\n",
    "])\n",
    "\n",
    "b_matrix = sp.Matrix([0, 0, 0, 1])\n",
    "\n",
    "display(a_matrix)\n",
    "display(b_matrix)"
   ]
  },
  {
   "cell_type": "code",
   "execution_count": 130,
   "metadata": {},
   "outputs": [],
   "source": [
    "args = (thrust, mass, velocity)\n",
    "a_matrix_func = sp.lambdify(args, a_matrix, modules='numpy')\n",
    "b_matrix_func = sp.lambdify(args, b_matrix, modules='numpy')\n",
    "\n",
    "\n",
    "def generate_state_space(thrust, mass, velocity):\n",
    "    return a_matrix_func(thrust, mass, velocity),\\\n",
    "           b_matrix_func(thrust, mass, velocity),\\\n",
    "           np.eye(4), np.zeros((4, 1))"
   ]
  },
  {
   "cell_type": "code",
   "execution_count": 146,
   "metadata": {},
   "outputs": [],
   "source": [
    "sys = ct.ss(*generate_state_space(1, 3, 4))"
   ]
  },
  {
   "cell_type": "markdown",
   "metadata": {},
   "source": [
    "## Controller tuning"
   ]
  },
  {
   "cell_type": "code",
   "execution_count": 147,
   "metadata": {},
   "outputs": [],
   "source": [
    "q_matrix = np.diag([1, 1, 1, 1])\n",
    "r_matrix = np.diag([1])"
   ]
  },
  {
   "cell_type": "code",
   "execution_count": 150,
   "metadata": {},
   "outputs": [
    {
     "data": {
      "text/plain": [
       "matrix([[ 3.71181044, 12.42298034,  2.29759687,  2.36541619]])"
      ]
     },
     "execution_count": 150,
     "metadata": {},
     "output_type": "execute_result"
    }
   ],
   "source": [
    "gains, _, __ = ct.lqr(sys, q_matrix, r_matrix)\n",
    "gains"
   ]
  },
  {
   "cell_type": "code",
   "execution_count": 155,
   "metadata": {},
   "outputs": [],
   "source": [
    "# A-B*K\n",
    "ss_fb = ct.ss(sys.A - sys.B @ gains, sys.B, sys.C, sys.D)"
   ]
  },
  {
   "cell_type": "code",
   "execution_count": null,
   "metadata": {},
   "outputs": [],
   "source": []
  }
 ],
 "metadata": {
  "kernelspec": {
   "display_name": "Python 3",
   "language": "python",
   "name": "python3"
  },
  "language_info": {
   "codemirror_mode": {
    "name": "ipython",
    "version": 3
   },
   "file_extension": ".py",
   "mimetype": "text/x-python",
   "name": "python",
   "nbconvert_exporter": "python",
   "pygments_lexer": "ipython3",
   "version": "3.8.6"
  }
 },
 "nbformat": 4,
 "nbformat_minor": 4
}
