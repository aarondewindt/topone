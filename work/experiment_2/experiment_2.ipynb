{
 "cells": [
  {
   "cell_type": "markdown",
   "metadata": {},
   "source": [
    "# Experiment 2: Two stage suborbital launcher\n"
   ]
  },
  {
   "cell_type": "code",
   "execution_count": 1,
   "metadata": {},
   "outputs": [],
   "source": [
    "%load_ext autoreload\n",
    "%autoreload 2\n",
    "%matplotlib widget"
   ]
  },
  {
   "cell_type": "code",
   "execution_count": 2,
   "metadata": {},
   "outputs": [],
   "source": [
    "from dataclasses import dataclass\n",
    "from math import radians\n",
    "import time\n",
    "\n",
    "import numpy as np\n",
    "import matplotlib.pyplot as plt\n",
    "from tqdm.auto import trange\n",
    "\n",
    "from cw.context import time_it\n",
    "from cw.simulation import Simulation, StatesBase, AB3Integrator, BatchLogger, Logging\n",
    "\n",
    "from topone.sim_post_processing import sim_post_processing\n",
    "from topone.environment import Environment, Stage\n",
    "from topone.pid_agent import PIDAgent\n",
    "\n",
    "from agent import Agent"
   ]
  },
  {
   "cell_type": "markdown",
   "metadata": {},
   "source": [
    "## Simulation configuration"
   ]
  },
  {
   "cell_type": "code",
   "execution_count": 3,
   "metadata": {},
   "outputs": [],
   "source": [
    "@dataclass\n",
    "class States(StatesBase):\n",
    "    t: float = 0\n",
    "    command_engine_on: bool = False\n",
    "    command_drop_stage: bool = False\n",
    "    gii: np.ndarray = np.zeros(2)\n",
    "    xii: np.ndarray = np.zeros(2)\n",
    "    vii: np.ndarray = np.zeros(2)\n",
    "    aii: np.ndarray = np.zeros(2)\n",
    "    fii_thrust: np.ndarray = np.zeros(2)\n",
    "    theta: float = 0.\n",
    "    theta_dot: float = 0.\n",
    "    mass: float = 0.\n",
    "    mass_dot: float = 0.\n",
    "    h: float = 0.\n",
    "    engine_on: bool = False\n",
    "    stage_state: int = 0\n",
    "    stage_idx: int = 0\n",
    "    gamma_i: float = 0.\n",
    "    gamma_e: float = 0.\n",
    "    latitude: float = 0.\n",
    "        \n",
    "    reward: float = 0.\n",
    "    reward_integral: float = 0.\n",
    "    delta_v: float = 0.\n",
    "\n",
    "    def get_y_dot(self):\n",
    "        y = np.empty(7)\n",
    "        y[:2] = self.vii\n",
    "        y[2:4] = self.aii\n",
    "        y[4] = self.theta_dot\n",
    "        y[5] = self.mass_dot\n",
    "        y[6] = self.reward\n",
    "        return y\n",
    "\n",
    "    def get_y(self):\n",
    "        y = np.empty(7)\n",
    "        y[:2] = self.xii\n",
    "        y[2:4] = self.vii\n",
    "        y[4] = self.theta\n",
    "        y[5] = self.mass\n",
    "        y[6] = self.reward_integral\n",
    "        return y\n",
    "\n",
    "    def set_t_y(self, t, y):\n",
    "        self.t = t\n",
    "        self.xii = y[:2]\n",
    "        self.vii = y[2:4]\n",
    "        self.theta = y[4]\n",
    "        self.mass = y[5]\n",
    "        self.reward_integral = y[6]"
   ]
  },
  {
   "cell_type": "code",
   "execution_count": 30,
   "metadata": {},
   "outputs": [],
   "source": [
    "agent = Agent(\n",
    "    epsilon=0.1,\n",
    "    alpha=0.9,\n",
    "    gamma=0.7,\n",
    "    path=\"./set_1\"\n",
    ")\n",
    "\n",
    "simulation = Simulation(\n",
    "    states_class=States,\n",
    "    integrator=AB3Integrator(\n",
    "        h=0.1,\n",
    "        rk4=True,\n",
    "        fd_max_order=1),\n",
    "    modules=[\n",
    "        Environment(\n",
    "            surface_diameter=1737.4e3,\n",
    "            mu=4.9048695e12,\n",
    "            stages=(\n",
    "                Stage(\n",
    "                    dry_mass=1,\n",
    "                    propellant_mass=0.1,\n",
    "                    specific_impulse=100,\n",
    "                    thrust=2*1.7),\n",
    "            ),\n",
    "            initial_altitude=1000,\n",
    "            initial_theta_e=radians(90),\n",
    "            initial_latitude=radians(90),\n",
    "            reward_function=lambda s: s.h - 1000,\n",
    "        ),\n",
    "        agent\n",
    "    ],\n",
    "    logging=Logging(),\n",
    "    initial_state_values=None,\n",
    ")\n",
    "batch_logger = BatchLogger()\n",
    "batch_logger.initialize(simulation)\n",
    "simulation.stash_states()"
   ]
  }
 ],
 "metadata": {
  "kernelspec": {
   "display_name": "Python 3",
   "language": "python",
   "name": "python3"
  },
  "language_info": {
   "codemirror_mode": {
    "name": "ipython",
    "version": 3
   },
   "file_extension": ".py",
   "mimetype": "text/x-python",
   "name": "python",
   "nbconvert_exporter": "python",
   "pygments_lexer": "ipython3",
   "version": "3.8.6"
  }
 },
 "nbformat": 4,
 "nbformat_minor": 4
}
